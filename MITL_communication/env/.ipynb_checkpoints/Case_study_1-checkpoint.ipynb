{
 "cells": [
  {
   "cell_type": "code",
   "execution_count": 2,
   "metadata": {
    "pycharm": {
     "name": "#%%\n"
    }
   },
   "outputs": [],
   "source": [
    "from datetime import datetime\n",
    "import numpy as np\n",
    "import math\n",
    "import copy\n",
    "import os\n",
    "from initialization import make_world, get_tasks\n",
    "from visualization import draw_path, draw_map, animate_solution\n",
    "from heavy_WTS import total_states\n",
    "from heavy_path_generation import heavy_path, get_work_map, get_path_cell2coord, get_independent_requests_tasks\n",
    "from request_exchange import collect_deliver, complete_path\n",
    "\n",
    "class bcolors:\n",
    "    HEADER = '\\033[95m'\n",
    "    OKBLUE = '\\033[94m'\n",
    "    OKCYAN = '\\033[96m'\n",
    "    OKGREEN = '\\033[92m'\n",
    "    WARNING = '\\033[93m'\n",
    "    FAIL = '\\033[91m'\n",
    "    ENDC = '\\033[0m'\n",
    "    UNDERLINE = '\\033[4m'"
   ]
  },
  {
   "cell_type": "code",
   "execution_count": 3,
   "metadata": {},
   "outputs": [
    {
     "ename": "NameError",
     "evalue": "name '__file__' is not defined",
     "output_type": "error",
     "traceback": [
      "\u001b[0;31m---------------------------------------------------------------------------\u001b[0m",
      "\u001b[0;31mNameError\u001b[0m                                 Traceback (most recent call last)",
      "Input \u001b[0;32mIn [3]\u001b[0m, in \u001b[0;36m<cell line: 2>\u001b[0;34m()\u001b[0m\n\u001b[1;32m      1\u001b[0m dirname \u001b[38;5;241m=\u001b[39m os\u001b[38;5;241m.\u001b[39mpath\u001b[38;5;241m.\u001b[39mdirname\n\u001b[0;32m----> 2\u001b[0m ABPATH \u001b[38;5;241m=\u001b[39m os\u001b[38;5;241m.\u001b[39mpath\u001b[38;5;241m.\u001b[39mjoin(dirname(dirname(\u001b[38;5;18;43m__file__\u001b[39;49m)))\n\u001b[1;32m      4\u001b[0m \u001b[38;5;124;03m\"\"\"create the folder for the fig, file, output(video)\"\"\"\u001b[39;00m\n\u001b[1;32m      5\u001b[0m now \u001b[38;5;241m=\u001b[39m datetime\u001b[38;5;241m.\u001b[39mtoday()\u001b[38;5;241m.\u001b[39mstrftime(\u001b[38;5;124m'\u001b[39m\u001b[38;5;124m%\u001b[39m\u001b[38;5;124mY-\u001b[39m\u001b[38;5;124m%\u001b[39m\u001b[38;5;124mm-\u001b[39m\u001b[38;5;132;01m%d\u001b[39;00m\u001b[38;5;124m'\u001b[39m)\n",
      "\u001b[0;31mNameError\u001b[0m: name '__file__' is not defined"
     ]
    }
   ],
   "source": [
    "# dirname = os.path.dirname\n",
    "# ABPATH = os.path.join(dirname(dirname(__file__)))\n",
    "\n",
    "os.path.abspath('')\n",
    "\n",
    "\"\"\"create the folder for the fig, file, output(video)\"\"\"\n",
    "now = datetime.today().strftime('%Y-%m-%d')\n",
    "fig_folder = ABPATH + '/figures/' + str(now)\n",
    "file_folder = ABPATH + '/files/' + str(now)\n",
    "output_folder = ABPATH + '/files/' + str(now) + '/output'\n",
    "if not (os.path.exists(fig_folder)):\n",
    "    os.makedirs(fig_folder)\n",
    "if not (os.path.exists(file_folder)):\n",
    "    os.makedirs(file_folder)\n",
    "if not (os.path.exists(output_folder)):\n",
    "    os.makedirs(output_folder)"
   ]
  },
  {
   "cell_type": "code",
   "execution_count": null,
   "metadata": {},
   "outputs": [],
   "source": []
  }
 ],
 "metadata": {
  "kernelspec": {
   "display_name": "Python 3 (ipykernel)",
   "language": "python",
   "name": "python3"
  },
  "language_info": {
   "codemirror_mode": {
    "name": "ipython",
    "version": 3
   },
   "file_extension": ".py",
   "mimetype": "text/x-python",
   "name": "python",
   "nbconvert_exporter": "python",
   "pygments_lexer": "ipython3",
   "version": "3.9.12"
  }
 },
 "nbformat": 4,
 "nbformat_minor": 1
}
